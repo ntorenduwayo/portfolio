# Import our scraping tools:
# Import Splinter and BeautifulSoup
from splinter import Browser
from bs4 import BeautifulSoup as soup
from webdriver_manager.chrome import ChromeDriverManager
import pandas as pd
from selenium import webdriver
from selenium.webdriver.chrome.service import Service
# Set the executable path and initialize a browser:
# Set up Splinter
executable_path = {'executable_path': ChromeDriverManager().install()}
browser = Browser('chrome', **executable_path, headless=False)
====== WebDriver manager ======


====== WebDriver manager ======
Current google-chrome version is 98.0.4758
Current google-chrome version is 98.0.4758
Get LATEST chromedriver version for 98.0.4758 google-chrome
Get LATEST chromedriver version for 98.0.4758 google-chrome
Trying to download new driver from https://chromedriver.storage.googleapis.com/98.0.4758.102/chromedriver_win32.zip
Trying to download new driver from https://chromedriver.storage.googleapis.com/98.0.4758.102/chromedriver_win32.zip
Driver has been saved in cache [C:\Users\jpndu\.wdm\drivers\chromedriver\win32\98.0.4758.102]
Driver has been saved in cache [C:\Users\jpndu\.wdm\drivers\chromedriver\win32\98.0.4758.102]

# Visit the mars nasa news site
url = 'https://redplanetscience.com'
browser.visit(url)

# Optional delay for loading the page
browser.is_element_present_by_css('div.list_text', wait_time=1)

# Set up the HTML parser:
html = browser.html
news_soup = soup(html, 'html.parser')
slide_elem = news_soup.select_one('div.list_text')

#  Assign the title and summary text to variables we'll reference later:
slide_elem.find('div', class_='content_title')
<div class="content_title">NASA's Mars Perseverance Rover Gets Its Sample Handling System</div>

# Use the parent element to find the first `a` tag and save it as `news_title`
news_title = slide_elem.find('div', class_='content_title').get_text()
news_title
"NASA's Mars Perseverance Rover Gets Its Sample Handling System"

#  The article summary (teaser):
# Use the parent element to find the paragraph text
news_p = slide_elem.find('div', class_='article_teaser_body').get_text()
news_p
'The system will be collecting and storing Martian rock and soil. Its installation marks another milestone in the march toward the July launch period.'

#Scrape Mars Data: Featured Image:
##Featured Images

# Visit URL
url = 'https://spaceimages-mars.com'
browser.visit(url)

# Find and click the full image button
full_image_elem = browser.find_by_tag('button')[1]
full_image_elem.click()

# Parse the resulting html with soup
html = browser.html
img_soup = soup(html, 'html.parser')

# Find the relative image url
img_url_rel = img_soup.find('img', class_='fancybox-image').get('src')
img_url_rel

# Use the base URL to create an absolute URL
img_url = f'https://spaceimages-mars.com/{img_url_rel}'
img_url

# Scrape Mars Data: Mars Facts:

df = pd.read_html('https://galaxyfacts-mars.com')[0]
df.columns=['description', 'Mars', 'Earth']
df.set_index('description', inplace=True)
df

# Convert our DataFrame back into HTML-ready code using the .to_html() function:
df.to_html()

# End the automated browsing session:
browser.quit()

# Challenge

# Import Splinter, BeautifulSoup, and Pandas
from splinter import Browser
from bs4 import BeautifulSoup as soup
import pandas as pd
from webdriver_manager.chrome import ChromeDriverManager

# Set the executable path and initialize Splinter
executable_path = {'executable_path': ChromeDriverManager().install()}
browser = Browser('chrome', **executable_path, headless=False)
====== WebDriver manager ======


====== WebDriver manager ======
Current google-chrome version is 98.0.4758
Get LATEST chromedriver version for 98.0.4758 google-chrome
Current google-chrome version is 98.0.4758
Get LATEST chromedriver version for 98.0.4758 google-chrome
Trying to download new driver from https://chromedriver.storage.googleapis.com/98.0.4758.102/chromedriver_win32.zip
Trying to download new driver from https://chromedriver.storage.googleapis.com/98.0.4758.102/chromedriver_win32.zip
Driver has been saved in cache [C:\Users\jpndu\.wdm\drivers\chromedriver\win32\98.0.4758.102]
Driver has been saved in cache [C:\Users\jpndu\.wdm\drivers\chromedriver\win32\98.0.4758.102]

# Visit the NASA Mars News Site

# Visit the mars nasa news site
url = 'https://redplanetscience.com/'
browser.visit(url)

# Optional delay for loading the page
browser.is_element_present_by_css('div.list_text', wait_time=1)

# Convert the browser html to a soup object and then quit the browser
html = browser.html
news_soup = soup(html, 'html.parser')

slide_elem = news_soup.select_one('div.list_text')
slide_elem.find('div', class_='content_title')

# Use the parent element to find the first a tag and save it as `news_title`
news_title = slide_elem.find('div', class_='content_title').get_text()
news_title

# Use the parent element to find the paragraph text
news_p = slide_elem.find('div', class_='article_teaser_body').get_text()
news_p

# JPL Space Images Featured Image

# Visit URL
url = 'https://spaceimages-mars.com'
browser.visit(url)

# Find and click the full image button
full_image_elem = browser.find_by_tag('button')[1]
full_image_elem.click()

# Parse the resulting html with soup
html = browser.html
img_soup = soup(html, 'html.parser')
img_soup

# find the relative image url
img_url_rel = img_soup.find('img', class_='fancybox-image').get('src')
img_url_rel

# Use the base url to create an absolute url
img_url = f'https://spaceimages-mars.com/{img_url_rel}'
img_url

# Mars Facts

df = pd.read_html('https://galaxyfacts-mars.com')[0]
df.head()
df.columns=['Description', 'Mars', 'Earth']
df.set_index('Description', inplace=True)
df

# Mars	Earth

df.to_html()

D1: Scrape High-Resolution Mars’ Hemisphere Images and Titles

Hemispheres

# Set the executable path and initialize Splinter
executable_path = {'executable_path': ChromeDriverManager().install()}
browser = Browser('chrome', **executable_path, headless=False)

====== WebDriver manager ======
Current google-chrome version is 99.0.4844
Get LATEST chromedriver version for 99.0.4844 google-chrome
Trying to download new driver from https://chromedriver.storage.googleapis.com/99.0.4844.51/chromedriver_win32.zip
Driver has been saved in cache [C:\Users\jpndu\.wdm\drivers\chromedriver\win32\99.0.4844.51]

# 1. Use browser to visit the URL 
url = 'https://marshemispheres.com/'

browser.visit(url)

# Set up the HTML parser:    
image_html = browser.html
image_soup = soup(image_html, 'html.parser')

# Retrieve all items for hemispheres information:
picture_results = image_soup.find_all( 'div', class_='item')

# 2. Create a list to hold the images and titles.
hemisphere_image_urls = []

# Create loop to scrape through all hemisphere information
for hemis in picture_results:
    hemisphere = {}
    titles = hemis.find('h3').text
    
    # create link for full image
    link_ref = hemis.find('a', class_='itemLink product-item')['href']
    
    # Use the base URL to create an absolute URL and browser visit
    browser.visit(url + link_ref)
    
    # 3. Write code to retrieve the image urls and titles for each hemisphere.
    # Set up the HTML parser:    
    images_html = browser.html
    images_soup = soup(images_html, 'html.parser')
    
    img_url = images_soup.find('img', class_='wide-image')['src']
    
    # Making sure of the elements in title & img_url:
    print(titles)
    print(img_url)
    
    # append list
    hemisphere['img_url'] = f'https://marshemispheres.com/{img_url}'
    hemisphere['titles'] = titles
    hemisphere_image_urls.append(hemisphere)
    
    browser.back()

# 4. Print the list that holds the dictionary of each image url and title.
hemisphere_image_urls

# 5. Quit the browser
browser.quit()
 